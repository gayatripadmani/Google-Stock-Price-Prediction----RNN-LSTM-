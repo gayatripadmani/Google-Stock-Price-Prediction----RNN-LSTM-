{
 "cells": [
  {
   "cell_type": "markdown",
   "id": "460167df",
   "metadata": {},
   "source": [
    "### Import the required libraries"
   ]
  },
  {
   "cell_type": "code",
   "execution_count": 1,
   "id": "44eb0b8c",
   "metadata": {},
   "outputs": [],
   "source": [
    "import numpy as np\n",
    "import pandas as pd\n",
    "import matplotlib.pyplot as plt"
   ]
  },
  {
   "cell_type": "markdown",
   "id": "bd397c2c",
   "metadata": {},
   "source": [
    "### Import the training set \n"
   ]
  },
  {
   "cell_type": "code",
   "execution_count": 2,
   "id": "0ce4da0b",
   "metadata": {
    "scrolled": true
   },
   "outputs": [
    {
     "data": {
      "text/html": [
       "<div>\n",
       "<style scoped>\n",
       "    .dataframe tbody tr th:only-of-type {\n",
       "        vertical-align: middle;\n",
       "    }\n",
       "\n",
       "    .dataframe tbody tr th {\n",
       "        vertical-align: top;\n",
       "    }\n",
       "\n",
       "    .dataframe thead th {\n",
       "        text-align: right;\n",
       "    }\n",
       "</style>\n",
       "<table border=\"1\" class=\"dataframe\">\n",
       "  <thead>\n",
       "    <tr style=\"text-align: right;\">\n",
       "      <th></th>\n",
       "      <th>Date</th>\n",
       "      <th>Open</th>\n",
       "      <th>High</th>\n",
       "      <th>Low</th>\n",
       "      <th>Close</th>\n",
       "      <th>Volume</th>\n",
       "    </tr>\n",
       "  </thead>\n",
       "  <tbody>\n",
       "    <tr>\n",
       "      <th>0</th>\n",
       "      <td>1/3/2012</td>\n",
       "      <td>325.25</td>\n",
       "      <td>332.83</td>\n",
       "      <td>324.97</td>\n",
       "      <td>663.59</td>\n",
       "      <td>7,380,500</td>\n",
       "    </tr>\n",
       "    <tr>\n",
       "      <th>1</th>\n",
       "      <td>1/4/2012</td>\n",
       "      <td>331.27</td>\n",
       "      <td>333.87</td>\n",
       "      <td>329.08</td>\n",
       "      <td>666.45</td>\n",
       "      <td>5,749,400</td>\n",
       "    </tr>\n",
       "    <tr>\n",
       "      <th>2</th>\n",
       "      <td>1/5/2012</td>\n",
       "      <td>329.83</td>\n",
       "      <td>330.75</td>\n",
       "      <td>326.89</td>\n",
       "      <td>657.21</td>\n",
       "      <td>6,590,300</td>\n",
       "    </tr>\n",
       "    <tr>\n",
       "      <th>3</th>\n",
       "      <td>1/6/2012</td>\n",
       "      <td>328.34</td>\n",
       "      <td>328.77</td>\n",
       "      <td>323.68</td>\n",
       "      <td>648.24</td>\n",
       "      <td>5,405,900</td>\n",
       "    </tr>\n",
       "    <tr>\n",
       "      <th>4</th>\n",
       "      <td>1/9/2012</td>\n",
       "      <td>322.04</td>\n",
       "      <td>322.29</td>\n",
       "      <td>309.46</td>\n",
       "      <td>620.76</td>\n",
       "      <td>11,688,800</td>\n",
       "    </tr>\n",
       "  </tbody>\n",
       "</table>\n",
       "</div>"
      ],
      "text/plain": [
       "       Date    Open    High     Low   Close      Volume\n",
       "0  1/3/2012  325.25  332.83  324.97  663.59   7,380,500\n",
       "1  1/4/2012  331.27  333.87  329.08  666.45   5,749,400\n",
       "2  1/5/2012  329.83  330.75  326.89  657.21   6,590,300\n",
       "3  1/6/2012  328.34  328.77  323.68  648.24   5,405,900\n",
       "4  1/9/2012  322.04  322.29  309.46  620.76  11,688,800"
      ]
     },
     "execution_count": 2,
     "metadata": {},
     "output_type": "execute_result"
    }
   ],
   "source": [
    "dataset_train = pd.read_csv('Google_Stock_Price_Train.csv')\n",
    "dataset_train.head()"
   ]
  },
  {
   "cell_type": "code",
   "execution_count": 3,
   "id": "8d7821b2",
   "metadata": {
    "scrolled": true
   },
   "outputs": [
    {
     "name": "stdout",
     "output_type": "stream",
     "text": [
      "<class 'pandas.core.frame.DataFrame'>\n",
      "RangeIndex: 1258 entries, 0 to 1257\n",
      "Data columns (total 6 columns):\n",
      " #   Column  Non-Null Count  Dtype  \n",
      "---  ------  --------------  -----  \n",
      " 0   Date    1258 non-null   object \n",
      " 1   Open    1258 non-null   float64\n",
      " 2   High    1258 non-null   float64\n",
      " 3   Low     1258 non-null   float64\n",
      " 4   Close   1258 non-null   object \n",
      " 5   Volume  1258 non-null   object \n",
      "dtypes: float64(3), object(3)\n",
      "memory usage: 59.1+ KB\n"
     ]
    }
   ],
   "source": [
    "dataset_train.info()"
   ]
  },
  {
   "cell_type": "code",
   "execution_count": 4,
   "id": "db4bdc96",
   "metadata": {},
   "outputs": [],
   "source": [
    "dataset_train[\"Close\"] = pd.to_numeric(dataset_train.Close, errors='coerce')\n",
    "dataset_train = dataset_train.dropna()\n",
    "training_set = dataset_train.iloc[:, 4 : 5].values"
   ]
  },
  {
   "cell_type": "code",
   "execution_count": 5,
   "id": "5e7ea324",
   "metadata": {},
   "outputs": [
    {
     "name": "stdout",
     "output_type": "stream",
     "text": [
      "<class 'pandas.core.frame.DataFrame'>\n",
      "Int64Index: 1149 entries, 0 to 1257\n",
      "Data columns (total 6 columns):\n",
      " #   Column  Non-Null Count  Dtype  \n",
      "---  ------  --------------  -----  \n",
      " 0   Date    1149 non-null   object \n",
      " 1   Open    1149 non-null   float64\n",
      " 2   High    1149 non-null   float64\n",
      " 3   Low     1149 non-null   float64\n",
      " 4   Close   1149 non-null   float64\n",
      " 5   Volume  1149 non-null   object \n",
      "dtypes: float64(4), object(2)\n",
      "memory usage: 62.8+ KB\n"
     ]
    }
   ],
   "source": [
    "dataset_train.info()"
   ]
  },
  {
   "cell_type": "markdown",
   "id": "80d5b9e4",
   "metadata": {},
   "source": [
    "### Perform feature scaling to transform the data"
   ]
  },
  {
   "cell_type": "code",
   "execution_count": 6,
   "id": "3aeba3a0",
   "metadata": {},
   "outputs": [
    {
     "data": {
      "text/plain": [
       "(1149, 1)"
      ]
     },
     "execution_count": 6,
     "metadata": {},
     "output_type": "execute_result"
    }
   ],
   "source": [
    "# Feature Scaling \n",
    "from sklearn.preprocessing import MinMaxScaler\n",
    "\n",
    "sc = MinMaxScaler(feature_range = (0,1))\n",
    "training_set_scaled = sc.fit_transform(training_set)\n",
    "training_set_scaled.shape"
   ]
  },
  {
   "cell_type": "markdown",
   "id": "d9b10023",
   "metadata": {},
   "source": [
    "### Create a data structure with 60-time steps and 1 output "
   ]
  },
  {
   "cell_type": "code",
   "execution_count": 7,
   "id": "06311cc1",
   "metadata": {},
   "outputs": [],
   "source": [
    "#Creating a data structure with 60 timesteps and 1 output \n",
    "X_train = []\n",
    "y_train = []\n",
    "for i in range(60, 1149):\n",
    "        X_train.append(training_set_scaled[i-60:i, 0])\n",
    "        y_train.append(training_set_scaled[i, 0])\n",
    "        \n",
    "X_train, y_train = np.array(X_train), np.array(y_train)"
   ]
  },
  {
   "cell_type": "code",
   "execution_count": 8,
   "id": "6a848c93",
   "metadata": {},
   "outputs": [
    {
     "data": {
      "text/plain": [
       "(1089, 60, 1)"
      ]
     },
     "execution_count": 8,
     "metadata": {},
     "output_type": "execute_result"
    }
   ],
   "source": [
    "#Reshoping \n",
    "X_train = np.reshape(X_train,(X_train.shape[0], X_train.shape[1], 1))\n",
    "X_train.shape"
   ]
  },
  {
   "cell_type": "markdown",
   "id": "245f0db7",
   "metadata": {},
   "source": [
    "### Import Keras library and its packages"
   ]
  },
  {
   "cell_type": "code",
   "execution_count": 9,
   "id": "157bd5ee",
   "metadata": {},
   "outputs": [],
   "source": [
    "# Importing the Keras libraries and packages\n",
    "\n",
    "from keras.models import Sequential \n",
    "from keras.layers import Dense, LSTM, Dropout"
   ]
  },
  {
   "cell_type": "markdown",
   "id": "bea41f17",
   "metadata": {},
   "source": [
    "### Initialize the RNN"
   ]
  },
  {
   "cell_type": "code",
   "execution_count": 10,
   "id": "0669b088",
   "metadata": {},
   "outputs": [],
   "source": [
    "# Importing the RNN\n",
    "regressor = Sequential()"
   ]
  },
  {
   "cell_type": "markdown",
   "id": "ed22257d",
   "metadata": {},
   "source": [
    "### Add the LSTM layers and some dropout regularization"
   ]
  },
  {
   "cell_type": "code",
   "execution_count": 11,
   "id": "8a2d1fea",
   "metadata": {},
   "outputs": [],
   "source": [
    "# Adding the first LSTM Layer and some Dropout regularization\n",
    "regressor.add(LSTM(units = 100, return_sequences = True, input_shape = (X_train.shape[1], 1)))\n",
    "regressor.add(Dropout(0.2))\n",
    "\n",
    "# Adding a second LSTM layer and some Dropout regularization\n",
    "regressor.add(LSTM(units = 100, return_sequences = True))\n",
    "regressor.add(Dropout(0.2))\n",
    "\n",
    "# Adding a third LSTM layer and some Dropout regularization\n",
    "regressor.add(LSTM(units = 100, return_sequences = True))\n",
    "regressor.add(Dropout(0.2))\n",
    "\n",
    "# Adding a fourth LSTM layer and some Dropout regularization\n",
    "regressor.add(LSTM(units = 100, return_sequences = True))\n",
    "regressor.add(Dropout(0.2))"
   ]
  },
  {
   "cell_type": "markdown",
   "id": "75266a2e",
   "metadata": {},
   "source": [
    "### Add the output layer.\n"
   ]
  },
  {
   "cell_type": "code",
   "execution_count": 12,
   "id": "76c9a07e",
   "metadata": {},
   "outputs": [],
   "source": [
    "# Adding the output layer\n",
    "regressor.add(Dense(units =1))"
   ]
  },
  {
   "cell_type": "markdown",
   "id": "a88cba25",
   "metadata": {},
   "source": [
    "### Compile the RNN"
   ]
  },
  {
   "cell_type": "code",
   "execution_count": 13,
   "id": "b04c7f3f",
   "metadata": {},
   "outputs": [],
   "source": [
    "# Compiling the RNN\n",
    "regressor.compile(optimizer='adam', loss='mean_squared_error')"
   ]
  },
  {
   "cell_type": "markdown",
   "id": "3885ecd2",
   "metadata": {},
   "source": [
    "### Fit the RNN to the training set"
   ]
  },
  {
   "cell_type": "code",
   "execution_count": 14,
   "id": "da566b92",
   "metadata": {},
   "outputs": [
    {
     "name": "stdout",
     "output_type": "stream",
     "text": [
      "Epoch 1/20\n",
      "35/35 - 12s - loss: 0.1035 - 12s/epoch - 350ms/step\n",
      "Epoch 2/20\n",
      "35/35 - 4s - loss: 0.0782 - 4s/epoch - 102ms/step\n",
      "Epoch 3/20\n",
      "35/35 - 4s - loss: 0.0768 - 4s/epoch - 122ms/step\n",
      "Epoch 4/20\n",
      "35/35 - 3s - loss: 0.0761 - 3s/epoch - 100ms/step\n",
      "Epoch 5/20\n",
      "35/35 - 4s - loss: 0.0742 - 4s/epoch - 105ms/step\n",
      "Epoch 6/20\n",
      "35/35 - 4s - loss: 0.0747 - 4s/epoch - 105ms/step\n",
      "Epoch 7/20\n",
      "35/35 - 4s - loss: 0.0750 - 4s/epoch - 126ms/step\n",
      "Epoch 8/20\n",
      "35/35 - 4s - loss: 0.0733 - 4s/epoch - 108ms/step\n",
      "Epoch 9/20\n",
      "35/35 - 4s - loss: 0.0746 - 4s/epoch - 117ms/step\n",
      "Epoch 10/20\n",
      "35/35 - 4s - loss: 0.0729 - 4s/epoch - 117ms/step\n",
      "Epoch 11/20\n",
      "35/35 - 4s - loss: 0.0733 - 4s/epoch - 127ms/step\n",
      "Epoch 12/20\n",
      "35/35 - 5s - loss: 0.0729 - 5s/epoch - 139ms/step\n",
      "Epoch 13/20\n",
      "35/35 - 4s - loss: 0.0726 - 4s/epoch - 123ms/step\n",
      "Epoch 14/20\n",
      "35/35 - 3s - loss: 0.0725 - 3s/epoch - 89ms/step\n",
      "Epoch 15/20\n",
      "35/35 - 3s - loss: 0.0720 - 3s/epoch - 94ms/step\n",
      "Epoch 16/20\n",
      "35/35 - 3s - loss: 0.0723 - 3s/epoch - 90ms/step\n",
      "Epoch 17/20\n",
      "35/35 - 3s - loss: 0.0738 - 3s/epoch - 94ms/step\n",
      "Epoch 18/20\n",
      "35/35 - 4s - loss: 0.0726 - 4s/epoch - 104ms/step\n",
      "Epoch 19/20\n",
      "35/35 - 4s - loss: 0.0716 - 4s/epoch - 107ms/step\n",
      "Epoch 20/20\n",
      "35/35 - 4s - loss: 0.0716 - 4s/epoch - 105ms/step\n"
     ]
    }
   ],
   "source": [
    "# fitting the RNN to the training set\n",
    "hist = regressor.fit(X_train, y_train, epochs = 20, batch_size = 32, verbose=2)"
   ]
  },
  {
   "cell_type": "code",
   "execution_count": 15,
   "id": "2ddc753d",
   "metadata": {},
   "outputs": [
    {
     "data": {
      "image/png": "[encoded data removed]",
      "text/plain": [
       "<Figure size 432x288 with 1 Axes>"
      ]
     },
     "metadata": {
      "needs_background": "light"
     },
     "output_type": "display_data"
    }
   ],
   "source": [
    "plt.plot(hist.history['loss'])\n",
    "plt.title('Training model loss')\n",
    "plt.ylabel('loss')\n",
    "plt.xlabel('epoch')\n",
    "plt.legend(['train'], loc='upper left')\n",
    "plt.show()"
   ]
  },
  {
   "cell_type": "markdown",
   "id": "5473d872",
   "metadata": {},
   "source": [
    "### Load the stock price test data for 2017"
   ]
  },
  {
   "cell_type": "code",
   "execution_count": null,
   "id": "149d0806",
   "metadata": {
    "scrolled": false
   },
   "outputs": [],
   "source": [
    "# Load the real stock price of 2017\n",
    "\n",
    "dataset_test = pd.read_csv('Google_Stock_Price_Test.csv')\n",
    "\n",
    "dataset_test[\"Close\"] = pd.to_numeric(dataset_test.Close, errors='coerce').dropna()\n",
    "dataset_test = dataset_test.dropna()\n",
    "\n",
    "dataset_test = dataset_test.iloc[:, 4 : 5].values\n",
    "Y_test = dataset_test.iloc[60:, 0:].values"
   ]
  },
  {
   "cell_type": "markdown",
   "id": "4c99a901",
   "metadata": {},
   "source": [
    "### Get the predicted stock price for 2017"
   ]
  },
  {
   "cell_type": "code",
   "execution_count": null,
   "id": "29472315",
   "metadata": {},
   "outputs": [],
   "source": [
    "# input array for the model\n",
    "\n",
    "inputClosing = dataset_test.iloc[:, 0 :].values\n",
    "ininputClosing_scaled = sc.transform(inputClosing)\n",
    "ininputClosing_scaled.shape"
   ]
  },
  {
   "cell_type": "code",
   "execution_count": null,
   "id": "ecea6d94",
   "metadata": {},
   "outputs": [],
   "source": [
    "X_test = []\n",
    "length = len(dataset_test)\n",
    "timestep = 60\n",
    "\n",
    "for i in range(timestep, length):\n",
    "    X_test.append(inputClosing_scaled[i - timestep : i, 0])\n",
    "\n",
    "X_test = np.array(X_test)\n",
    "X_test = np.reshape(X_test, (X_test.shape[0], X_test.shape[1], 1))\n",
    "X_test.shape"
   ]
  },
  {
   "cell_type": "code",
   "execution_count": null,
   "id": "7a12f2fb",
   "metadata": {},
   "outputs": [],
   "source": [
    "predicted_stock_price = regressor.predict(X_test)"
   ]
  },
  {
   "cell_type": "code",
   "execution_count": null,
   "id": "97223d9d",
   "metadata": {},
   "outputs": [],
   "source": [
    "predicted_stock_price = sc.inverse_transform(predicted_stock_price)"
   ]
  },
  {
   "cell_type": "markdown",
   "id": "1417d796",
   "metadata": {},
   "source": [
    "### Visualize the results of predicted and real stock price"
   ]
  },
  {
   "cell_type": "code",
   "execution_count": null,
   "id": "a741483a",
   "metadata": {},
   "outputs": [],
   "source": [
    "# Visulizing the results\n",
    "\n",
    "plt.plot(real_stock_price, color = 'red', label = 'Actual Stock Price')\n",
    "plt.plot(predicted_stock_price, color = 'blue', label = 'Predicted Stock Price')\n",
    "plt.title('Google Stock Price Prediction')\n",
    "plt.xlabel('Time')\n",
    "plt.ylabel('Stock Price')\n",
    "plt.legend()\n",
    "plt.show()"
   ]
  },
  {
   "cell_type": "code",
   "execution_count": null,
   "id": "7a298391",
   "metadata": {},
   "outputs": [],
   "source": []
  }
 ],
 "metadata": {
  "kernelspec": {
   "display_name": "Python 3 (ipykernel)",
   "language": "python",
   "name": "python3"
  },
  "language_info": {
   "codemirror_mode": {
    "name": "ipython",
    "version": 3
   },
   "file_extension": ".py",
   "mimetype": "text/x-python",
   "name": "python",
   "nbconvert_exporter": "python",
   "pygments_lexer": "ipython3",
   "version": "3.9.12"
  }
 },
 "nbformat": 4,
 "nbformat_minor": 5
}
